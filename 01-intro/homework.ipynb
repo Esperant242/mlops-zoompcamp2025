{
 "cells": [
  {
   "cell_type": "code",
   "execution_count": 21,
   "id": "ae732965",
   "metadata": {},
   "outputs": [],
   "source": [
    "import pandas as pd\n",
    "from sklearn.feature_extraction import DictVectorizer\n",
    "from sklearn.linear_model import LinearRegression\n",
    "from sklearn.metrics import mean_squared_error\n",
    "import numpy as np\n",
    "import warnings\n",
    "warnings.filterwarnings('ignore')"
   ]
  },
  {
   "cell_type": "code",
   "execution_count": 5,
   "id": "568c889a",
   "metadata": {},
   "outputs": [
    {
     "data": {
      "text/plain": [
       "'1.4.2'"
      ]
     },
     "execution_count": 5,
     "metadata": {},
     "output_type": "execute_result"
    }
   ],
   "source": [
    "pd.__version__"
   ]
  },
  {
   "cell_type": "code",
   "execution_count": 6,
   "id": "81d846fc",
   "metadata": {},
   "outputs": [],
   "source": [
    "df_jan = pd.read_parquet(\"https://d37ci6vzurychx.cloudfront.net/trip-data/yellow_tripdata_2023-01.parquet\")\n",
    "df_feb = pd.read_parquet(\"https://d37ci6vzurychx.cloudfront.net/trip-data/yellow_tripdata_2023-02.parquet\")"
   ]
  },
  {
   "cell_type": "markdown",
   "id": "1ee7c655",
   "metadata": {},
   "source": [
    " ### Question 1"
   ]
  },
  {
   "cell_type": "code",
   "execution_count": 7,
   "id": "bc449ae3",
   "metadata": {
    "scrolled": false
   },
   "outputs": [
    {
     "data": {
      "text/plain": [
       "((3066766, 19), (2913955, 19))"
      ]
     },
     "execution_count": 7,
     "metadata": {},
     "output_type": "execute_result"
    }
   ],
   "source": [
    "df_jan. shape , df_feb.shape"
   ]
  },
  {
   "cell_type": "code",
   "execution_count": 8,
   "id": "026d3fe9",
   "metadata": {},
   "outputs": [
    {
     "name": "stdout",
     "output_type": "stream",
     "text": [
      "There are  18 Columns in this this dataset\n"
     ]
    }
   ],
   "source": [
    "print(f\"There are  {df_jan.shape[1]-1} Columns in this this dataset\")"
   ]
  },
  {
   "cell_type": "markdown",
   "id": "d49fe6e2",
   "metadata": {},
   "source": [
    "## Question 2"
   ]
  },
  {
   "cell_type": "code",
   "execution_count": 9,
   "id": "42691028",
   "metadata": {
    "scrolled": false
   },
   "outputs": [
    {
     "data": {
      "text/plain": [
       "42.594351241920904"
      ]
     },
     "execution_count": 9,
     "metadata": {},
     "output_type": "execute_result"
    }
   ],
   "source": [
    "df_jan[\"duration\"] = (df_jan[\"tpep_dropoff_datetime\"] - df_jan[\"tpep_pickup_datetime\"]).dt.total_seconds()/60\n",
    "df_jan[\"duration\"].std()"
   ]
  },
  {
   "cell_type": "markdown",
   "id": "80e66979",
   "metadata": {},
   "source": [
    "## Question 3"
   ]
  },
  {
   "cell_type": "code",
   "execution_count": 10,
   "id": "6fc06719",
   "metadata": {},
   "outputs": [],
   "source": [
    "df_jan_filtred = df_jan[(df_jan[\"duration\"] >=1)&(df_jan[\"duration\"] <=60)]"
   ]
  },
  {
   "cell_type": "code",
   "execution_count": 11,
   "id": "25ba8b9c",
   "metadata": {
    "scrolled": true
   },
   "outputs": [
    {
     "data": {
      "text/plain": [
       "((3009173, 20), (3066766, 20))"
      ]
     },
     "execution_count": 11,
     "metadata": {},
     "output_type": "execute_result"
    }
   ],
   "source": [
    "df_jan_filtred.shape, df_jan.shape"
   ]
  },
  {
   "cell_type": "code",
   "execution_count": 12,
   "id": "a29413f4",
   "metadata": {},
   "outputs": [
    {
     "name": "stdout",
     "output_type": "stream",
     "text": [
      "The fraction is : 98%\n"
     ]
    }
   ],
   "source": [
    "fraction = len(df_jan_filtred)/len(df_jan)\n",
    "print(f\"The fraction is : {fraction:.0%}\")"
   ]
  },
  {
   "cell_type": "markdown",
   "id": "fb008ad3",
   "metadata": {},
   "source": [
    "## Question  4"
   ]
  },
  {
   "cell_type": "code",
   "execution_count": 14,
   "id": "a8d9e86a",
   "metadata": {},
   "outputs": [
    {
     "name": "stderr",
     "output_type": "stream",
     "text": [
      "/tmp/ipykernel_5861/1761852564.py:2: SettingWithCopyWarning: \n",
      "A value is trying to be set on a copy of a slice from a DataFrame.\n",
      "Try using .loc[row_indexer,col_indexer] = value instead\n",
      "\n",
      "See the caveats in the documentation: https://pandas.pydata.org/pandas-docs/stable/user_guide/indexing.html#returning-a-view-versus-a-copy\n",
      "  df_jan_filtred[categorical] = df_jan_filtred[categorical].astype(str)\n"
     ]
    }
   ],
   "source": [
    "categorical = ['PULocationID', 'DOLocationID']\n",
    "df_jan_filtred[categorical] = df_jan_filtred[categorical].astype(str)"
   ]
  },
  {
   "cell_type": "code",
   "execution_count": 17,
   "id": "10ae2cdd",
   "metadata": {},
   "outputs": [],
   "source": [
    "dv = DictVectorizer()\n",
    "train_dicts = df_jan_filtred[categorical].to_dict(orient='records')\n",
    "X_train = dv.fit_transform(train_dicts)"
   ]
  },
  {
   "cell_type": "code",
   "execution_count": 18,
   "id": "6e74c38f",
   "metadata": {
    "scrolled": true
   },
   "outputs": [
    {
     "name": "stdout",
     "output_type": "stream",
     "text": [
      "Q4: 515\n"
     ]
    }
   ],
   "source": [
    "print('Q4:', X_train.shape[1])"
   ]
  },
  {
   "cell_type": "markdown",
   "id": "36309134",
   "metadata": {},
   "source": [
    "## Question 5"
   ]
  },
  {
   "cell_type": "code",
   "execution_count": 19,
   "id": "e41ae6d2",
   "metadata": {
    "scrolled": true
   },
   "outputs": [
    {
     "name": "stdout",
     "output_type": "stream",
     "text": [
      "Q5: 7.65\n"
     ]
    }
   ],
   "source": [
    "y_train = df_jan_filtred.duration.values\n",
    "model = LinearRegression()\n",
    "model.fit(X_train, y_train)\n",
    "y_pred_train = model.predict(X_train)\n",
    "rmse_train = mean_squared_error(y_train, y_pred_train, squared=False)\n",
    "print('Q5:', round(rmse_train, 2))"
   ]
  },
  {
   "cell_type": "markdown",
   "id": "079307c2",
   "metadata": {},
   "source": [
    "## Question 6"
   ]
  },
  {
   "cell_type": "code",
   "execution_count": 20,
   "id": "2889cdee",
   "metadata": {},
   "outputs": [
    {
     "name": "stderr",
     "output_type": "stream",
     "text": [
      "/tmp/ipykernel_5861/4066412140.py:4: SettingWithCopyWarning: \n",
      "A value is trying to be set on a copy of a slice from a DataFrame.\n",
      "Try using .loc[row_indexer,col_indexer] = value instead\n",
      "\n",
      "See the caveats in the documentation: https://pandas.pydata.org/pandas-docs/stable/user_guide/indexing.html#returning-a-view-versus-a-copy\n",
      "  df_feb_filtered[categorical] = df_feb_filtered[categorical].astype(str)\n"
     ]
    },
    {
     "name": "stdout",
     "output_type": "stream",
     "text": [
      "Q6: 7.81\n"
     ]
    }
   ],
   "source": [
    "# Q6: Évaluation sur février\n",
    "df_feb['duration'] = (df_feb.tpep_dropoff_datetime - df_feb.tpep_pickup_datetime).dt.total_seconds() / 60\n",
    "df_feb_filtered = df_feb[(df_feb.duration >= 1) & (df_feb.duration <= 60)]\n",
    "df_feb_filtered[categorical] = df_feb_filtered[categorical].astype(str)\n",
    "\n",
    "val_dicts = df_feb_filtered[categorical].to_dict(orient='records')\n",
    "X_val = dv.transform(val_dicts)\n",
    "y_val = df_feb_filtered.duration.values\n",
    "y_pred_val = model.predict(X_val)\n",
    "rmse_val = mean_squared_error(y_val, y_pred_val, squared=False)\n",
    "print('Q6:', round(rmse_val, 2))"
   ]
  },
  {
   "cell_type": "code",
   "execution_count": null,
   "id": "8ba4c16b",
   "metadata": {},
   "outputs": [],
   "source": []
  }
 ],
 "metadata": {
  "kernelspec": {
   "display_name": "Python 3 (ipykernel)",
   "language": "python",
   "name": "python3"
  },
  "language_info": {
   "codemirror_mode": {
    "name": "ipython",
    "version": 3
   },
   "file_extension": ".py",
   "mimetype": "text/x-python",
   "name": "python",
   "nbconvert_exporter": "python",
   "pygments_lexer": "ipython3",
   "version": "3.9.12"
  }
 },
 "nbformat": 4,
 "nbformat_minor": 5
}
